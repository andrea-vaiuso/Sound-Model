{
 "cells": [
  {
   "cell_type": "code",
   "execution_count": null,
   "metadata": {},
   "outputs": [
    {
     "data": {
      "text/plain": [
       "([array([242.47940009, 403.97940009, 315.87940009]),\n",
       "  array([252.72940009, 424.47940009, 331.25440009]),\n",
       "  array([263.47940009, 445.97940009, 347.37940009]),\n",
       "  array([252.72940009, 424.47940009, 331.25440009])],\n",
       " array([264.18429422, 446.0407304 , 347.58930863]))"
      ]
     },
     "execution_count": 1,
     "metadata": {},
     "output_type": "execute_result"
    },
    {
     "ename": "",
     "evalue": "",
     "output_type": "error",
     "traceback": [
      "\u001b[1;31mThe Kernel crashed while executing code in the current cell or a previous cell. \n",
      "\u001b[1;31mPlease review the code in the cell(s) to identify a possible cause of the failure. \n",
      "\u001b[1;31mClick <a href='https://aka.ms/vscodeJupyterKernelCrash'>here</a> for more info. \n",
      "\u001b[1;31mView Jupyter <a href='command:jupyter.viewOutput'>log</a> for further details."
     ]
    }
   ],
   "source": [
    "import numpy as np\n",
    "\n",
    "def calculate_Lw_individual(Lw_ref, a, b, c, d, zeta, RPM, C_proc, num_rotors):\n",
    "    \"\"\"\n",
    "    Calculate the sound power level for an individual rotor with power split adjustment.\n",
    "    \n",
    "    Parameters:\n",
    "    - Lw_ref (array-like): Reference sound power level for different frequencies.\n",
    "    - a, b, c, d (array-like): Coefficients for the polynomial model.\n",
    "    - zeta (float): Radiation angle in degrees.\n",
    "    - RPM (float): Rotational speed of the rotor.\n",
    "    - C_proc (float): Procedural correction factor.\n",
    "    - num_rotors (int): Total number of rotors.\n",
    "\n",
    "    Returns:\n",
    "    - Lw_individual (array-like): Adjusted sound power levels for the rotor.\n",
    "    \"\"\"\n",
    "    # Calculate the individual rotor sound power level\n",
    "    Lw_individual = (\n",
    "        Lw_ref \n",
    "        + a * (zeta ** 2) \n",
    "        + b * np.abs(zeta) \n",
    "        + c * RPM \n",
    "        + d * (RPM ** 2) \n",
    "        + C_proc\n",
    "        - 10 * np.log10(num_rotors)  # Adjust for power split\n",
    "    )\n",
    "    return Lw_individual\n",
    "\n",
    "def calculate_Lw_total(Lw_individual_list):\n",
    "    \"\"\"\n",
    "    Calculate the total sound power level by combining individual rotor contributions energetically.\n",
    "    \n",
    "    Parameters:\n",
    "    - Lw_individual_list (list of array-like): List of adjusted sound power levels for all rotors.\n",
    "\n",
    "    Returns:\n",
    "    - Lw_total (array-like): Total sound power levels across all frequencies.\n",
    "    \"\"\"\n",
    "    # Combine the individual sound power levels energetically\n",
    "    Lw_total = 10 * np.log10(np.sum([10 ** (Lw / 10) for Lw in Lw_individual_list], axis=0))\n",
    "    return Lw_total\n",
    "\n",
    "# Example Usage:\n",
    "# Define example inputs\n",
    "num_rotors = 4\n",
    "RPMs = [5000, 5500, 6000, 5500]  # Rotational speeds of the 4 rotors\n",
    "zeta = 30  # Radiation angle in degrees\n",
    "C_proc = 2.0  # Procedural correction factor\n",
    "Lw_ref = np.array([80, 75, 70])  # Reference levels for 3 example frequencies\n",
    "a = np.array([0.1, 0.2, 0.15])  # Coefficients for zeta^2\n",
    "b = np.array([0.05, 0.1, 0.08])  # Coefficients for |zeta|\n",
    "c = np.array([0.01, 0.02, 0.015])  # Coefficients for RPM\n",
    "d = np.array([1e-6, 2e-6, 1.5e-6])  # Coefficients for RPM^2\n",
    "\n",
    "# Calculate individual sound power levels\n",
    "Lw_individual_list = [\n",
    "    calculate_Lw_individual(Lw_ref, a, b, c, d, zeta, RPM, C_proc, num_rotors) for RPM in RPMs\n",
    "]\n",
    "\n",
    "# Calculate total sound power level\n",
    "Lw_total = calculate_Lw_total(Lw_individual_list)\n",
    "\n",
    "Lw_individual_list, Lw_total\n"
   ]
  }
 ],
 "metadata": {
  "kernelspec": {
   "display_name": "pytorch-env",
   "language": "python",
   "name": "python3"
  },
  "language_info": {
   "codemirror_mode": {
    "name": "ipython",
    "version": 3
   },
   "file_extension": ".py",
   "mimetype": "text/x-python",
   "name": "python",
   "nbconvert_exporter": "python",
   "pygments_lexer": "ipython3",
   "version": "3.8.18"
  }
 },
 "nbformat": 4,
 "nbformat_minor": 2
}
