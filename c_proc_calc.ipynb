{
 "cells": [
  {
   "cell_type": "code",
   "execution_count": 6,
   "metadata": {},
   "outputs": [
    {
     "data": {
      "text/plain": [
       "(-37.490814, -33.665165, -3.8256493)"
      ]
     },
     "execution_count": 6,
     "metadata": {},
     "output_type": "execute_result"
    }
   ],
   "source": [
    "import librosa\n",
    "\n",
    "# Load the audio files\n",
    "hover_audio, hover_sr = librosa.load(\"DJIMatrice300RTK_Hover_1.wav\")\n",
    "yaw_audio, yaw_sr = librosa.load(\"DJIMatrice300RTK_Yaw_1.wav\")\n",
    "\n",
    "# Define the central portion duration in seconds\n",
    "portion_duration = 0.5\n",
    "\n",
    "# Calculate the central portion start and end samples\n",
    "hover_start = int((len(hover_audio) - hover_sr * portion_duration) / 2)\n",
    "hover_end = hover_start + int(hover_sr * portion_duration)\n",
    "\n",
    "yaw_start = int((len(yaw_audio) - yaw_sr * portion_duration) / 2)\n",
    "yaw_end = yaw_start + int(yaw_sr * portion_duration)\n",
    "\n",
    "# Extract the central portion of the audio\n",
    "hover_audio_central = hover_audio[hover_start:hover_end]\n",
    "yaw_audio_central = yaw_audio[yaw_start:yaw_end]\n",
    "\n",
    "# Calculate the mean loudness in dB for the central portion\n",
    "hover_loudness_central = librosa.amplitude_to_db(abs(hover_audio_central)).mean()\n",
    "yaw_loudness_central = librosa.amplitude_to_db(abs(yaw_audio_central)).mean()\n",
    "\n",
    "# Calculate the difference between hover and yaw loudness for the central portion\n",
    "loudness_difference_central = hover_loudness_central - yaw_loudness_central\n",
    "\n",
    "hover_loudness_central, yaw_loudness_central, loudness_difference_central"
   ]
  }
 ],
 "metadata": {
  "kernelspec": {
   "display_name": "pytorch-env",
   "language": "python",
   "name": "python3"
  },
  "language_info": {
   "codemirror_mode": {
    "name": "ipython",
    "version": 3
   },
   "file_extension": ".py",
   "mimetype": "text/x-python",
   "name": "python",
   "nbconvert_exporter": "python",
   "pygments_lexer": "ipython3",
   "version": "3.8.18"
  }
 },
 "nbformat": 4,
 "nbformat_minor": 2
}
